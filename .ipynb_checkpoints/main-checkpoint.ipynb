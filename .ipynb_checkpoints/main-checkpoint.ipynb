{
 "cells": [
  {
   "cell_type": "code",
   "execution_count": 1,
   "metadata": {},
   "outputs": [],
   "source": [
    "# Welcome to reddit-spectra - Vigaash & Salik"
   ]
  },
  {
   "cell_type": "code",
   "execution_count": 2,
   "metadata": {},
   "outputs": [],
   "source": [
    "import pandas as pd"
   ]
  },
  {
   "cell_type": "code",
   "execution_count": 3,
   "metadata": {},
   "outputs": [
    {
     "name": "stderr",
     "output_type": "stream",
     "text": [
      "/Users/vigaashsivasothy/Documents/School/CSCD25/cscd25/lib/python3.8/site-packages/IPython/core/interactiveshell.py:3508: DtypeWarning: Columns (2,3,4,5) have mixed types.Specify dtype option on import or set low_memory=False.\n",
      "  exec(code_obj, self.user_global_ns, self.user_ns)\n"
     ]
    },
    {
     "data": {
      "text/plain": [
       "<bound method NDFrame.head of                   id  score    link_id                author  \\\n",
       "0         t1_ftjl56l    4.0  t3_gzv6so             mega_trex   \n",
       "1         t1_ftjpxmc    6.0  t3_gzv6so             [deleted]   \n",
       "2         t1_gzzxfyt   22.0  t3_nodb9e             divadream   \n",
       "3         t1_gzzy7nc   92.0  t3_no6qaj  Ziegenkoennenfliegen   \n",
       "4         t1_h00tpbp   82.0  t3_nolx7p       meowrottenralph   \n",
       "...              ...    ...        ...                   ...   \n",
       "46413720  t1_ew3s0p8    1.0  t3_cmccmo                  AJTK   \n",
       "46413721  t1_ennpzrt    1.0  t3_bp2f3w          imdelirious3   \n",
       "46413722  t1_f02psre    5.0  t3_d3f1tn      NocapNightingale   \n",
       "46413723  t1_f5t4bhw    1.0  t3_dp6jz9              jag-engr   \n",
       "46413724  t1_errythg    1.0  t3_c3ad9x             Mercbeast   \n",
       "\n",
       "                  subreddit  \\\n",
       "0         BeautyGuruChatter   \n",
       "1         BeautyGuruChatter   \n",
       "2         BeautyGuruChatter   \n",
       "3         BeautyGuruChatter   \n",
       "4         BeautyGuruChatter   \n",
       "...                     ...   \n",
       "46413720      SquaredCircle   \n",
       "46413721          AskReddit   \n",
       "46413722         TheStrokes   \n",
       "46413723    ChoosingBeggars   \n",
       "46413724           totalwar   \n",
       "\n",
       "                                                       body   created_utc  \n",
       "0         Does anyone have a good cruelty free one? The ...  1.591756e+09  \n",
       "1         (stares at my soft glam i've had for like 3 ye...  1.591758e+09  \n",
       "2         When Jen’s initial reactions came out to the s...  1.622398e+09  \n",
       "3          I think you mean a \\n>Highschool *fucking* bully  1.622399e+09  \n",
       "4         Ugh. I was honestly hoping that this brand wou...  1.622415e+09  \n",
       "...                                                     ...           ...  \n",
       "46413720  Did people forget Finn had to face Corbin, Jin...  1.565093e+09  \n",
       "46413721                                             I hope  1.557950e+09  \n",
       "46413722  I will literally cry if you're right dude xD L...  1.568336e+09  \n",
       "46413723     Wow.  That's incredibly hostile for no reason.  1.572450e+09  \n",
       "46413724  Yes and it's insanely unrealistic. But, school...  1.561190e+09  \n",
       "\n",
       "[46413725 rows x 7 columns]>"
      ]
     },
     "execution_count": 3,
     "metadata": {},
     "output_type": "execute_result"
    }
   ],
   "source": [
    "# Reading the dataset into a dataframe\n",
    "df = pd.read_csv('text_comments.csv')\n",
    "df.head"
   ]
  },
  {
   "cell_type": "code",
   "execution_count": 5,
   "metadata": {},
   "outputs": [
    {
     "data": {
      "text/html": [
       "<div>\n",
       "<style scoped>\n",
       "    .dataframe tbody tr th:only-of-type {\n",
       "        vertical-align: middle;\n",
       "    }\n",
       "\n",
       "    .dataframe tbody tr th {\n",
       "        vertical-align: top;\n",
       "    }\n",
       "\n",
       "    .dataframe thead th {\n",
       "        text-align: right;\n",
       "    }\n",
       "</style>\n",
       "<table border=\"1\" class=\"dataframe\">\n",
       "  <thead>\n",
       "    <tr style=\"text-align: right;\">\n",
       "      <th></th>\n",
       "      <th>subreddit</th>\n",
       "      <th>score</th>\n",
       "      <th>body</th>\n",
       "      <th>created_utc</th>\n",
       "    </tr>\n",
       "  </thead>\n",
       "  <tbody>\n",
       "    <tr>\n",
       "      <th>0</th>\n",
       "      <td>BeautyGuruChatter</td>\n",
       "      <td>4.0</td>\n",
       "      <td>Does anyone have a good cruelty free one? The ...</td>\n",
       "      <td>1.591756e+09</td>\n",
       "    </tr>\n",
       "    <tr>\n",
       "      <th>1</th>\n",
       "      <td>BeautyGuruChatter</td>\n",
       "      <td>6.0</td>\n",
       "      <td>(stares at my soft glam i've had for like 3 ye...</td>\n",
       "      <td>1.591758e+09</td>\n",
       "    </tr>\n",
       "    <tr>\n",
       "      <th>2</th>\n",
       "      <td>BeautyGuruChatter</td>\n",
       "      <td>22.0</td>\n",
       "      <td>When Jen’s initial reactions came out to the s...</td>\n",
       "      <td>1.622398e+09</td>\n",
       "    </tr>\n",
       "    <tr>\n",
       "      <th>3</th>\n",
       "      <td>BeautyGuruChatter</td>\n",
       "      <td>92.0</td>\n",
       "      <td>I think you mean a \\n&gt;Highschool *fucking* bully</td>\n",
       "      <td>1.622399e+09</td>\n",
       "    </tr>\n",
       "    <tr>\n",
       "      <th>4</th>\n",
       "      <td>BeautyGuruChatter</td>\n",
       "      <td>82.0</td>\n",
       "      <td>Ugh. I was honestly hoping that this brand wou...</td>\n",
       "      <td>1.622415e+09</td>\n",
       "    </tr>\n",
       "    <tr>\n",
       "      <th>...</th>\n",
       "      <td>...</td>\n",
       "      <td>...</td>\n",
       "      <td>...</td>\n",
       "      <td>...</td>\n",
       "    </tr>\n",
       "    <tr>\n",
       "      <th>46413720</th>\n",
       "      <td>SquaredCircle</td>\n",
       "      <td>1.0</td>\n",
       "      <td>Did people forget Finn had to face Corbin, Jin...</td>\n",
       "      <td>1.565093e+09</td>\n",
       "    </tr>\n",
       "    <tr>\n",
       "      <th>46413721</th>\n",
       "      <td>AskReddit</td>\n",
       "      <td>1.0</td>\n",
       "      <td>I hope</td>\n",
       "      <td>1.557950e+09</td>\n",
       "    </tr>\n",
       "    <tr>\n",
       "      <th>46413722</th>\n",
       "      <td>TheStrokes</td>\n",
       "      <td>5.0</td>\n",
       "      <td>I will literally cry if you're right dude xD L...</td>\n",
       "      <td>1.568336e+09</td>\n",
       "    </tr>\n",
       "    <tr>\n",
       "      <th>46413723</th>\n",
       "      <td>ChoosingBeggars</td>\n",
       "      <td>1.0</td>\n",
       "      <td>Wow.  That's incredibly hostile for no reason.</td>\n",
       "      <td>1.572450e+09</td>\n",
       "    </tr>\n",
       "    <tr>\n",
       "      <th>46413724</th>\n",
       "      <td>totalwar</td>\n",
       "      <td>1.0</td>\n",
       "      <td>Yes and it's insanely unrealistic. But, school...</td>\n",
       "      <td>1.561190e+09</td>\n",
       "    </tr>\n",
       "  </tbody>\n",
       "</table>\n",
       "<p>46413725 rows × 4 columns</p>\n",
       "</div>"
      ],
      "text/plain": [
       "                  subreddit  score  \\\n",
       "0         BeautyGuruChatter    4.0   \n",
       "1         BeautyGuruChatter    6.0   \n",
       "2         BeautyGuruChatter   22.0   \n",
       "3         BeautyGuruChatter   92.0   \n",
       "4         BeautyGuruChatter   82.0   \n",
       "...                     ...    ...   \n",
       "46413720      SquaredCircle    1.0   \n",
       "46413721          AskReddit    1.0   \n",
       "46413722         TheStrokes    5.0   \n",
       "46413723    ChoosingBeggars    1.0   \n",
       "46413724           totalwar    1.0   \n",
       "\n",
       "                                                       body   created_utc  \n",
       "0         Does anyone have a good cruelty free one? The ...  1.591756e+09  \n",
       "1         (stares at my soft glam i've had for like 3 ye...  1.591758e+09  \n",
       "2         When Jen’s initial reactions came out to the s...  1.622398e+09  \n",
       "3          I think you mean a \\n>Highschool *fucking* bully  1.622399e+09  \n",
       "4         Ugh. I was honestly hoping that this brand wou...  1.622415e+09  \n",
       "...                                                     ...           ...  \n",
       "46413720  Did people forget Finn had to face Corbin, Jin...  1.565093e+09  \n",
       "46413721                                             I hope  1.557950e+09  \n",
       "46413722  I will literally cry if you're right dude xD L...  1.568336e+09  \n",
       "46413723     Wow.  That's incredibly hostile for no reason.  1.572450e+09  \n",
       "46413724  Yes and it's insanely unrealistic. But, school...  1.561190e+09  \n",
       "\n",
       "[46413725 rows x 4 columns]"
      ]
     },
     "execution_count": 5,
     "metadata": {},
     "output_type": "execute_result"
    }
   ],
   "source": [
    "# Initial cleaning. We are only concerned with four main columns, the subreddit, score, the text body and the date.\n",
    "# We removed the rest of the columns to ensure anonymity of the users and reduce unneeded information.\n",
    "df2 = df[['subreddit', 'score', 'body', 'created_utc']]\n",
    "df2"
   ]
  },
  {
   "cell_type": "code",
   "execution_count": 6,
   "metadata": {},
   "outputs": [],
   "source": [
    "df_leftwing = df2[df2['subreddit'].isin(['democrats', 'EnoughLibertarianSpam', 'hillaryclinton', 'progressive', 'BlueMidterm2018', 'EnoughHillHate', 'Enough_Sanders_Spam', 'badwomensanatomy'])]"
   ]
  },
  {
   "cell_type": "code",
   "execution_count": 57,
   "metadata": {},
   "outputs": [
    {
     "name": "stdout",
     "output_type": "stream",
     "text": [
      "Number of entries from r/democrats:  4446\n",
      "Number of entries from r/EnoughLibertarianSpam:  1462\n",
      "Number of entries from r/hillaryclinton:  0\n",
      "Number of entries from r/progressive:  0\n",
      "Number of entries from r/BlueMidterm2018:  0\n",
      "Number of entries from r/EnoughHillHate:  0\n",
      "Number of entries from r/Enough_Sanders_Spam:  16831\n",
      "Number of entries from r/badwomensanatomy:  12163\n"
     ]
    }
   ],
   "source": [
    "print(\"Number of entries from r/democrats: \", df_leftwing[df_leftwing['subreddit'] == 'democrats'].shape[0])\n",
    "print(\"Number of entries from r/EnoughLibertarianSpam: \", df_leftwing[df_leftwing['subreddit'] == 'EnoughLibertarianSpam'].shape[0])\n",
    "print(\"Number of entries from r/hillaryclinton: \", df_leftwing[df_leftwing['subreddit'] == 'hillaryclinton'].shape[0])\n",
    "print(\"Number of entries from r/progressive: \", df_leftwing[df_leftwing['subreddit'] == 'progressive'].shape[0])\n",
    "print(\"Number of entries from r/BlueMidterm2018: \", df_leftwing[df_leftwing['subreddit'] == 'BlueMidterm2018'].shape[0])\n",
    "print(\"Number of entries from r/EnoughHillHate: \", df_leftwing[df_leftwing['subreddit'] == 'EnoughHillHate'].shape[0])\n",
    "print(\"Number of entries from r/Enough_Sanders_Spam: \", df_leftwing[df_leftwing['subreddit'] == 'Enough_Sanders_Spam'].shape[0])\n",
    "print(\"Number of entries from r/badwomensanatomy: \", df_leftwing[df_leftwing['subreddit'] == 'badwomensanatomy'].shape[0])"
   ]
  },
  {
   "cell_type": "code",
   "execution_count": 15,
   "metadata": {},
   "outputs": [],
   "source": [
    "df_rightwing = df2[df2['subreddit'].isin(['Conservative', 'The_Donald', 'TrueChristian', 'NoFapChristians', 'Mr_Trump', 'metacanada', 'conservatives', 'new_right'])]"
   ]
  },
  {
   "cell_type": "code",
   "execution_count": 60,
   "metadata": {},
   "outputs": [
    {
     "name": "stdout",
     "output_type": "stream",
     "text": [
      "Number of entries from r/Conservative:  76872\n",
      "Number of entries from r/The_Donald:  0\n",
      "Number of entries from r/TrueChristian:  6558\n",
      "Number of entries from r/NoFapChristians:  0\n",
      "Number of entries from r/Mr_Trump:  0\n",
      "Number of entries from r/metacanada:  6195\n",
      "Number of entries from r/conservatives:  3572\n",
      "Number of entries from r/new_right:  0\n"
     ]
    }
   ],
   "source": [
    "print(\"Number of entries from r/Conservative: \", df_rightwing[df_rightwing['subreddit'] == 'Conservative'].shape[0])\n",
    "print(\"Number of entries from r/The_Donald: \", df_rightwing[df_rightwing['subreddit'] == 'The_Donald'].shape[0])\n",
    "print(\"Number of entries from r/TrueChristian: \", df_rightwing[df_rightwing['subreddit'] == 'TrueChristian'].shape[0])\n",
    "print(\"Number of entries from r/NoFapChristians: \", df_rightwing[df_rightwing['subreddit'] == 'NoFapChristians'].shape[0])\n",
    "print(\"Number of entries from r/Mr_Trump: \", df_rightwing[df_rightwing['subreddit'] == 'Mr_Trump'].shape[0])\n",
    "print(\"Number of entries from r/metacanada: \", df_rightwing[df_rightwing['subreddit'] == 'metacanada'].shape[0])\n",
    "print(\"Number of entries from r/conservatives: \", df_rightwing[df_rightwing['subreddit'] == 'conservatives'].shape[0])\n",
    "print(\"Number of entries from r/new_right: \", df_rightwing[df_rightwing['subreddit'] == 'new_right'].shape[0])"
   ]
  },
  {
   "cell_type": "code",
   "execution_count": 61,
   "metadata": {},
   "outputs": [
    {
     "name": "stdout",
     "output_type": "stream",
     "text": [
      "From the above we only have data from four subreddits from the left and right wing, we will choose these four from each to do our LDA analysis.\n"
     ]
    }
   ],
   "source": [
    "print(\"From the above we only have data from four subreddits from the left and right wing, we will choose these four from each to do our LDA analysis.\")"
   ]
  },
  {
   "cell_type": "code",
   "execution_count": 62,
   "metadata": {},
   "outputs": [],
   "source": [
    "# Drop duplicates and clean data\n",
    "df_rightwing = df_rightwing.drop_duplicates()\n",
    "df_leftwing = df_leftwing.drop_duplicates()"
   ]
  },
  {
   "cell_type": "code",
   "execution_count": null,
   "metadata": {},
   "outputs": [],
   "source": [
    "# After viewing the data, we realized there are text bodies with '[removed]', which signifies a removed comment.\n",
    "# We must drop all of the removed comments.\n",
    "df2 = df2[df.body != '[removed]']\n",
    "df2"
   ]
  },
  {
   "cell_type": "code",
   "execution_count": null,
   "metadata": {},
   "outputs": [],
   "source": []
  }
 ],
 "metadata": {
  "kernelspec": {
   "display_name": "Python 3 (ipykernel)",
   "language": "python",
   "name": "python3"
  },
  "language_info": {
   "codemirror_mode": {
    "name": "ipython",
    "version": 3
   },
   "file_extension": ".py",
   "mimetype": "text/x-python",
   "name": "python",
   "nbconvert_exporter": "python",
   "pygments_lexer": "ipython3",
   "version": "3.8.5"
  }
 },
 "nbformat": 4,
 "nbformat_minor": 4
}
